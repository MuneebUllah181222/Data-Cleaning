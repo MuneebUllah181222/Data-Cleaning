{
 "cells": [
  {
   "cell_type": "markdown",
   "id": "6e67aa5c",
   "metadata": {},
   "source": [
    "# Handling Missing Values"
   ]
  },
  {
   "cell_type": "code",
   "execution_count": 89,
   "id": "a3458aa7",
   "metadata": {},
   "outputs": [],
   "source": [
    "#import required libraries\n",
    "\n",
    "import numpy as np\n",
    "import pandas as pd\n",
    "import warnings\n",
    "warnings.filterwarnings('ignore')\n",
    "\n",
    "# for Box-Cox Transformation\n",
    "\n",
    "from scipy import stats\n",
    "\n",
    "# for min_max scaling\n",
    "\n",
    "from mlxtend.preprocessing import minmax_scaling\n",
    "\n",
    "# plotting modules\n",
    "\n",
    "import seaborn as sns\n",
    "import matplotlib.pyplot as plt\n",
    "\n",
    "#date parsing\n",
    "\n",
    "import datetime"
   ]
  },
  {
   "cell_type": "code",
   "execution_count": 90,
   "id": "28e4de41",
   "metadata": {},
   "outputs": [],
   "source": [
    "#load data\n",
    "\n",
    "data = pd.read_csv('Building_Permits.csv')"
   ]
  },
  {
   "cell_type": "code",
   "execution_count": 91,
   "id": "406d8fd5",
   "metadata": {},
   "outputs": [
    {
     "data": {
      "text/html": [
       "<div>\n",
       "<style scoped>\n",
       "    .dataframe tbody tr th:only-of-type {\n",
       "        vertical-align: middle;\n",
       "    }\n",
       "\n",
       "    .dataframe tbody tr th {\n",
       "        vertical-align: top;\n",
       "    }\n",
       "\n",
       "    .dataframe thead th {\n",
       "        text-align: right;\n",
       "    }\n",
       "</style>\n",
       "<table border=\"1\" class=\"dataframe\">\n",
       "  <thead>\n",
       "    <tr style=\"text-align: right;\">\n",
       "      <th></th>\n",
       "      <th>Permit Number</th>\n",
       "      <th>Permit Type</th>\n",
       "      <th>Permit Type Definition</th>\n",
       "      <th>Permit Creation Date</th>\n",
       "      <th>Block</th>\n",
       "      <th>Lot</th>\n",
       "      <th>Street Number</th>\n",
       "      <th>Street Number Suffix</th>\n",
       "      <th>Street Name</th>\n",
       "      <th>Street Suffix</th>\n",
       "      <th>...</th>\n",
       "      <th>Existing Construction Type</th>\n",
       "      <th>Existing Construction Type Description</th>\n",
       "      <th>Proposed Construction Type</th>\n",
       "      <th>Proposed Construction Type Description</th>\n",
       "      <th>Site Permit</th>\n",
       "      <th>Supervisor District</th>\n",
       "      <th>Neighborhoods - Analysis Boundaries</th>\n",
       "      <th>Zipcode</th>\n",
       "      <th>Location</th>\n",
       "      <th>Record ID</th>\n",
       "    </tr>\n",
       "  </thead>\n",
       "  <tbody>\n",
       "    <tr>\n",
       "      <th>0</th>\n",
       "      <td>201505065519</td>\n",
       "      <td>4</td>\n",
       "      <td>sign - erect</td>\n",
       "      <td>05/06/2015</td>\n",
       "      <td>0326</td>\n",
       "      <td>023</td>\n",
       "      <td>140</td>\n",
       "      <td>NaN</td>\n",
       "      <td>Ellis</td>\n",
       "      <td>St</td>\n",
       "      <td>...</td>\n",
       "      <td>3.0</td>\n",
       "      <td>constr type 3</td>\n",
       "      <td>NaN</td>\n",
       "      <td>NaN</td>\n",
       "      <td>NaN</td>\n",
       "      <td>3.0</td>\n",
       "      <td>Tenderloin</td>\n",
       "      <td>94102.0</td>\n",
       "      <td>(37.785719256680785, -122.40852313194863)</td>\n",
       "      <td>1380611233945</td>\n",
       "    </tr>\n",
       "    <tr>\n",
       "      <th>1</th>\n",
       "      <td>201604195146</td>\n",
       "      <td>4</td>\n",
       "      <td>sign - erect</td>\n",
       "      <td>04/19/2016</td>\n",
       "      <td>0306</td>\n",
       "      <td>007</td>\n",
       "      <td>440</td>\n",
       "      <td>NaN</td>\n",
       "      <td>Geary</td>\n",
       "      <td>St</td>\n",
       "      <td>...</td>\n",
       "      <td>3.0</td>\n",
       "      <td>constr type 3</td>\n",
       "      <td>NaN</td>\n",
       "      <td>NaN</td>\n",
       "      <td>NaN</td>\n",
       "      <td>3.0</td>\n",
       "      <td>Tenderloin</td>\n",
       "      <td>94102.0</td>\n",
       "      <td>(37.78733980600732, -122.41063199757738)</td>\n",
       "      <td>1420164406718</td>\n",
       "    </tr>\n",
       "    <tr>\n",
       "      <th>2</th>\n",
       "      <td>201605278609</td>\n",
       "      <td>3</td>\n",
       "      <td>additions alterations or repairs</td>\n",
       "      <td>05/27/2016</td>\n",
       "      <td>0595</td>\n",
       "      <td>203</td>\n",
       "      <td>1647</td>\n",
       "      <td>NaN</td>\n",
       "      <td>Pacific</td>\n",
       "      <td>Av</td>\n",
       "      <td>...</td>\n",
       "      <td>1.0</td>\n",
       "      <td>constr type 1</td>\n",
       "      <td>1.0</td>\n",
       "      <td>constr type 1</td>\n",
       "      <td>NaN</td>\n",
       "      <td>3.0</td>\n",
       "      <td>Russian Hill</td>\n",
       "      <td>94109.0</td>\n",
       "      <td>(37.7946573324287, -122.42232562979227)</td>\n",
       "      <td>1424856504716</td>\n",
       "    </tr>\n",
       "    <tr>\n",
       "      <th>3</th>\n",
       "      <td>201611072166</td>\n",
       "      <td>8</td>\n",
       "      <td>otc alterations permit</td>\n",
       "      <td>11/07/2016</td>\n",
       "      <td>0156</td>\n",
       "      <td>011</td>\n",
       "      <td>1230</td>\n",
       "      <td>NaN</td>\n",
       "      <td>Pacific</td>\n",
       "      <td>Av</td>\n",
       "      <td>...</td>\n",
       "      <td>5.0</td>\n",
       "      <td>wood frame (5)</td>\n",
       "      <td>5.0</td>\n",
       "      <td>wood frame (5)</td>\n",
       "      <td>NaN</td>\n",
       "      <td>3.0</td>\n",
       "      <td>Nob Hill</td>\n",
       "      <td>94109.0</td>\n",
       "      <td>(37.79595867909168, -122.41557405519474)</td>\n",
       "      <td>1443574295566</td>\n",
       "    </tr>\n",
       "    <tr>\n",
       "      <th>4</th>\n",
       "      <td>201611283529</td>\n",
       "      <td>6</td>\n",
       "      <td>demolitions</td>\n",
       "      <td>11/28/2016</td>\n",
       "      <td>0342</td>\n",
       "      <td>001</td>\n",
       "      <td>950</td>\n",
       "      <td>NaN</td>\n",
       "      <td>Market</td>\n",
       "      <td>St</td>\n",
       "      <td>...</td>\n",
       "      <td>3.0</td>\n",
       "      <td>constr type 3</td>\n",
       "      <td>NaN</td>\n",
       "      <td>NaN</td>\n",
       "      <td>NaN</td>\n",
       "      <td>6.0</td>\n",
       "      <td>Tenderloin</td>\n",
       "      <td>94102.0</td>\n",
       "      <td>(37.78315261897309, -122.40950883997789)</td>\n",
       "      <td>144548169992</td>\n",
       "    </tr>\n",
       "    <tr>\n",
       "      <th>5</th>\n",
       "      <td>201706149344</td>\n",
       "      <td>8</td>\n",
       "      <td>otc alterations permit</td>\n",
       "      <td>06/14/2017</td>\n",
       "      <td>4105</td>\n",
       "      <td>009</td>\n",
       "      <td>800</td>\n",
       "      <td>NaN</td>\n",
       "      <td>Indiana</td>\n",
       "      <td>St</td>\n",
       "      <td>...</td>\n",
       "      <td>1.0</td>\n",
       "      <td>constr type 1</td>\n",
       "      <td>1.0</td>\n",
       "      <td>constr type 1</td>\n",
       "      <td>NaN</td>\n",
       "      <td>10.0</td>\n",
       "      <td>Potrero Hill</td>\n",
       "      <td>94107.0</td>\n",
       "      <td>(37.75922331346539, -122.39170402628598)</td>\n",
       "      <td>1466911170855</td>\n",
       "    </tr>\n",
       "    <tr>\n",
       "      <th>6</th>\n",
       "      <td>201706300814</td>\n",
       "      <td>8</td>\n",
       "      <td>otc alterations permit</td>\n",
       "      <td>06/30/2017</td>\n",
       "      <td>1739</td>\n",
       "      <td>020</td>\n",
       "      <td>1291</td>\n",
       "      <td>NaN</td>\n",
       "      <td>11th</td>\n",
       "      <td>Av</td>\n",
       "      <td>...</td>\n",
       "      <td>5.0</td>\n",
       "      <td>wood frame (5)</td>\n",
       "      <td>5.0</td>\n",
       "      <td>wood frame (5)</td>\n",
       "      <td>NaN</td>\n",
       "      <td>5.0</td>\n",
       "      <td>Inner Sunset</td>\n",
       "      <td>94122.0</td>\n",
       "      <td>(37.764145640138565, -122.46875112470363)</td>\n",
       "      <td>1468970403692</td>\n",
       "    </tr>\n",
       "    <tr>\n",
       "      <th>7</th>\n",
       "      <td>M803667</td>\n",
       "      <td>8</td>\n",
       "      <td>otc alterations permit</td>\n",
       "      <td>06/30/2017</td>\n",
       "      <td>4789</td>\n",
       "      <td>014</td>\n",
       "      <td>1465</td>\n",
       "      <td>NaN</td>\n",
       "      <td>Revere</td>\n",
       "      <td>Av</td>\n",
       "      <td>...</td>\n",
       "      <td>NaN</td>\n",
       "      <td>NaN</td>\n",
       "      <td>NaN</td>\n",
       "      <td>NaN</td>\n",
       "      <td>NaN</td>\n",
       "      <td>10.0</td>\n",
       "      <td>Bayview Hunters Point</td>\n",
       "      <td>94124.0</td>\n",
       "      <td>(37.73005099023611, -122.38784938916618)</td>\n",
       "      <td>1469035175050</td>\n",
       "    </tr>\n",
       "    <tr>\n",
       "      <th>8</th>\n",
       "      <td>M804227</td>\n",
       "      <td>8</td>\n",
       "      <td>otc alterations permit</td>\n",
       "      <td>07/05/2017</td>\n",
       "      <td>1212</td>\n",
       "      <td>054</td>\n",
       "      <td>2094</td>\n",
       "      <td>NaN</td>\n",
       "      <td>Fell</td>\n",
       "      <td>St</td>\n",
       "      <td>...</td>\n",
       "      <td>NaN</td>\n",
       "      <td>NaN</td>\n",
       "      <td>NaN</td>\n",
       "      <td>NaN</td>\n",
       "      <td>NaN</td>\n",
       "      <td>5.0</td>\n",
       "      <td>Lone Mountain/USF</td>\n",
       "      <td>94117.0</td>\n",
       "      <td>(37.772393498502595, -122.45231466824669)</td>\n",
       "      <td>1469198253772</td>\n",
       "    </tr>\n",
       "    <tr>\n",
       "      <th>9</th>\n",
       "      <td>M804767</td>\n",
       "      <td>8</td>\n",
       "      <td>otc alterations permit</td>\n",
       "      <td>07/06/2017</td>\n",
       "      <td>1259</td>\n",
       "      <td>016</td>\n",
       "      <td>89</td>\n",
       "      <td>NaN</td>\n",
       "      <td>Alpine</td>\n",
       "      <td>Tr</td>\n",
       "      <td>...</td>\n",
       "      <td>NaN</td>\n",
       "      <td>NaN</td>\n",
       "      <td>NaN</td>\n",
       "      <td>NaN</td>\n",
       "      <td>NaN</td>\n",
       "      <td>8.0</td>\n",
       "      <td>Haight Ashbury</td>\n",
       "      <td>94117.0</td>\n",
       "      <td>(37.7691724293766, -122.43734859051908)</td>\n",
       "      <td>146932394171</td>\n",
       "    </tr>\n",
       "  </tbody>\n",
       "</table>\n",
       "<p>10 rows × 43 columns</p>\n",
       "</div>"
      ],
      "text/plain": [
       "  Permit Number  Permit Type            Permit Type Definition  \\\n",
       "0  201505065519            4                      sign - erect   \n",
       "1  201604195146            4                      sign - erect   \n",
       "2  201605278609            3  additions alterations or repairs   \n",
       "3  201611072166            8            otc alterations permit   \n",
       "4  201611283529            6                       demolitions   \n",
       "5  201706149344            8            otc alterations permit   \n",
       "6  201706300814            8            otc alterations permit   \n",
       "7       M803667            8            otc alterations permit   \n",
       "8       M804227            8            otc alterations permit   \n",
       "9       M804767            8            otc alterations permit   \n",
       "\n",
       "  Permit Creation Date Block  Lot  Street Number Street Number Suffix  \\\n",
       "0           05/06/2015  0326  023            140                  NaN   \n",
       "1           04/19/2016  0306  007            440                  NaN   \n",
       "2           05/27/2016  0595  203           1647                  NaN   \n",
       "3           11/07/2016  0156  011           1230                  NaN   \n",
       "4           11/28/2016  0342  001            950                  NaN   \n",
       "5           06/14/2017  4105  009            800                  NaN   \n",
       "6           06/30/2017  1739  020           1291                  NaN   \n",
       "7           06/30/2017  4789  014           1465                  NaN   \n",
       "8           07/05/2017  1212  054           2094                  NaN   \n",
       "9           07/06/2017  1259  016             89                  NaN   \n",
       "\n",
       "  Street Name Street Suffix  ...  Existing Construction Type  \\\n",
       "0       Ellis            St  ...                         3.0   \n",
       "1       Geary            St  ...                         3.0   \n",
       "2     Pacific            Av  ...                         1.0   \n",
       "3     Pacific            Av  ...                         5.0   \n",
       "4      Market            St  ...                         3.0   \n",
       "5     Indiana            St  ...                         1.0   \n",
       "6        11th            Av  ...                         5.0   \n",
       "7      Revere            Av  ...                         NaN   \n",
       "8        Fell            St  ...                         NaN   \n",
       "9      Alpine            Tr  ...                         NaN   \n",
       "\n",
       "  Existing Construction Type Description Proposed Construction Type  \\\n",
       "0                          constr type 3                        NaN   \n",
       "1                          constr type 3                        NaN   \n",
       "2                          constr type 1                        1.0   \n",
       "3                         wood frame (5)                        5.0   \n",
       "4                          constr type 3                        NaN   \n",
       "5                          constr type 1                        1.0   \n",
       "6                         wood frame (5)                        5.0   \n",
       "7                                    NaN                        NaN   \n",
       "8                                    NaN                        NaN   \n",
       "9                                    NaN                        NaN   \n",
       "\n",
       "  Proposed Construction Type Description Site Permit Supervisor District  \\\n",
       "0                                    NaN         NaN                 3.0   \n",
       "1                                    NaN         NaN                 3.0   \n",
       "2                          constr type 1         NaN                 3.0   \n",
       "3                         wood frame (5)         NaN                 3.0   \n",
       "4                                    NaN         NaN                 6.0   \n",
       "5                          constr type 1         NaN                10.0   \n",
       "6                         wood frame (5)         NaN                 5.0   \n",
       "7                                    NaN         NaN                10.0   \n",
       "8                                    NaN         NaN                 5.0   \n",
       "9                                    NaN         NaN                 8.0   \n",
       "\n",
       "  Neighborhoods - Analysis Boundaries  Zipcode  \\\n",
       "0                          Tenderloin  94102.0   \n",
       "1                          Tenderloin  94102.0   \n",
       "2                        Russian Hill  94109.0   \n",
       "3                            Nob Hill  94109.0   \n",
       "4                          Tenderloin  94102.0   \n",
       "5                        Potrero Hill  94107.0   \n",
       "6                        Inner Sunset  94122.0   \n",
       "7               Bayview Hunters Point  94124.0   \n",
       "8                   Lone Mountain/USF  94117.0   \n",
       "9                      Haight Ashbury  94117.0   \n",
       "\n",
       "                                    Location      Record ID  \n",
       "0  (37.785719256680785, -122.40852313194863)  1380611233945  \n",
       "1   (37.78733980600732, -122.41063199757738)  1420164406718  \n",
       "2    (37.7946573324287, -122.42232562979227)  1424856504716  \n",
       "3   (37.79595867909168, -122.41557405519474)  1443574295566  \n",
       "4   (37.78315261897309, -122.40950883997789)   144548169992  \n",
       "5   (37.75922331346539, -122.39170402628598)  1466911170855  \n",
       "6  (37.764145640138565, -122.46875112470363)  1468970403692  \n",
       "7   (37.73005099023611, -122.38784938916618)  1469035175050  \n",
       "8  (37.772393498502595, -122.45231466824669)  1469198253772  \n",
       "9    (37.7691724293766, -122.43734859051908)   146932394171  \n",
       "\n",
       "[10 rows x 43 columns]"
      ]
     },
     "execution_count": 91,
     "metadata": {},
     "output_type": "execute_result"
    }
   ],
   "source": [
    "#lets look at the first 10 recods in the data\n",
    "\n",
    "data.head(10)"
   ]
  },
  {
   "cell_type": "markdown",
   "id": "766074a5",
   "metadata": {},
   "source": [
    "let's found out how much data has missing values"
   ]
  },
  {
   "cell_type": "code",
   "execution_count": 4,
   "id": "3f0470d5",
   "metadata": {},
   "outputs": [
    {
     "name": "stdout",
     "output_type": "stream",
     "text": [
      "Total missing values are 26.26 %\n"
     ]
    }
   ],
   "source": [
    "total_missing_values = data.isnull().sum()\n",
    "total_values = np.product(data.shape)\n",
    "missing_value_counts = total_missing_values.sum()\n",
    "missing_values_percent = (missing_value_counts/total_values)*100\n",
    "print(f\"Total missing values are {missing_values_percent:.2f} %\")"
   ]
  },
  {
   "cell_type": "markdown",
   "id": "948bb0cc",
   "metadata": {},
   "source": [
    "### Drop Missing Values - rows\n",
    "Let's drop the rows with the missing values and see what we have left."
   ]
  },
  {
   "cell_type": "code",
   "execution_count": 5,
   "id": "8a743221",
   "metadata": {},
   "outputs": [
    {
     "data": {
      "text/plain": [
       "(0, 43)"
      ]
     },
     "execution_count": 5,
     "metadata": {},
     "output_type": "execute_result"
    }
   ],
   "source": [
    "missing_values_drop = data.dropna(axis=0)\n",
    "missing_values_drop.shape"
   ]
  },
  {
   "cell_type": "markdown",
   "id": "601dda05",
   "metadata": {},
   "source": [
    "##### This means that all the rows with missing values are removed"
   ]
  },
  {
   "cell_type": "markdown",
   "id": "3b7653a5",
   "metadata": {},
   "source": [
    "## Drop Missing Vlaues - columns\n",
    "Let's drop the columns with missing value and see what we have left."
   ]
  },
  {
   "cell_type": "code",
   "execution_count": 10,
   "id": "015dbffb",
   "metadata": {},
   "outputs": [
    {
     "name": "stdout",
     "output_type": "stream",
     "text": [
      "Total no of columns in original data:  43\n",
      "Total no of columns dropped:  12\n",
      "Remaining columns:  31\n"
     ]
    }
   ],
   "source": [
    "missing_values_drop_cols = data.dropna(axis=1)\n",
    "print(\"Total no of columns in original data: \", data.shape[1])\n",
    "print(\"Total no of columns dropped: \", missing_values_drop_cols.shape[1])\n",
    "print(\"Remaining columns: \",data.shape[1]-missing_values_drop_cols.shape[1])"
   ]
  },
  {
   "cell_type": "markdown",
   "id": "0f2f0e05",
   "metadata": {},
   "source": [
    "## Filling Missing Values Automatically\n",
    "Replace the \"NaN\" values with the one that comes directly after it. Replace other NaNs' with zeros"
   ]
  },
  {
   "cell_type": "code",
   "execution_count": 11,
   "id": "a158fb66",
   "metadata": {},
   "outputs": [],
   "source": [
    "missing_values_imputed = data.fillna(method=\"bfill\", axis=0).fillna(0)"
   ]
  },
  {
   "cell_type": "code",
   "execution_count": 16,
   "id": "bf720253",
   "metadata": {},
   "outputs": [
    {
     "data": {
      "text/plain": [
       "Permit Number                             0\n",
       "Permit Type                               0\n",
       "Permit Type Definition                    0\n",
       "Permit Creation Date                      0\n",
       "Block                                     0\n",
       "Lot                                       0\n",
       "Street Number                             0\n",
       "Street Number Suffix                      0\n",
       "Street Name                               0\n",
       "Street Suffix                             0\n",
       "Unit                                      0\n",
       "Unit Suffix                               0\n",
       "Description                               0\n",
       "Current Status                            0\n",
       "Current Status Date                       0\n",
       "Filed Date                                0\n",
       "Issued Date                               0\n",
       "Completed Date                            0\n",
       "First Construction Document Date          0\n",
       "Structural Notification                   0\n",
       "Number of Existing Stories                0\n",
       "Number of Proposed Stories                0\n",
       "Voluntary Soft-Story Retrofit             0\n",
       "Fire Only Permit                          0\n",
       "Permit Expiration Date                    0\n",
       "Estimated Cost                            0\n",
       "Revised Cost                              0\n",
       "Existing Use                              0\n",
       "Existing Units                            0\n",
       "Proposed Use                              0\n",
       "Proposed Units                            0\n",
       "Plansets                                  0\n",
       "TIDF Compliance                           0\n",
       "Existing Construction Type                0\n",
       "Existing Construction Type Description    0\n",
       "Proposed Construction Type                0\n",
       "Proposed Construction Type Description    0\n",
       "Site Permit                               0\n",
       "Supervisor District                       0\n",
       "Neighborhoods - Analysis Boundaries       0\n",
       "Zipcode                                   0\n",
       "Location                                  0\n",
       "Record ID                                 0\n",
       "dtype: int64"
      ]
     },
     "execution_count": 16,
     "metadata": {},
     "output_type": "execute_result"
    }
   ],
   "source": [
    "#now let's check if there is any missing value\n",
    "missing_values_imputed.isnull().sum()"
   ]
  },
  {
   "cell_type": "markdown",
   "id": "1562fc21",
   "metadata": {},
   "source": [
    "# Scaling and Normalization"
   ]
  },
  {
   "cell_type": "markdown",
   "id": "b27edca9",
   "metadata": {},
   "source": [
    "Diffrence: Scaling and Normalization are used interchangebly, that's why they looks similar. But there is a difference between the two. Scaling means bringing the data into a specific range like between 0 and 1 or -1 and 1 etc. Normalization means changing the shape of the distribution of the data"
   ]
  },
  {
   "cell_type": "code",
   "execution_count": 5,
   "id": "af594a19",
   "metadata": {},
   "outputs": [
    {
     "data": {
      "image/png": "[encoded data removed]",
      "text/plain": [
       "<Figure size 1080x216 with 2 Axes>"
      ]
     },
     "metadata": {
      "needs_background": "light"
     },
     "output_type": "display_data"
    }
   ],
   "source": [
    "original_data = np.random.exponential(size=1000)\n",
    "\n",
    "# mix-max scale the data between 0 and 1\n",
    "scaled_data = minmax_scaling(original_data, columns=[0])\n",
    "\n",
    "# plot both together to compare\n",
    "fig, ax = plt.subplots(1, 2, figsize=(15, 3))\n",
    "sns.histplot(original_data, ax=ax[0], kde=True, legend=False)\n",
    "ax[0].set_title(\"Original Data\")\n",
    "sns.histplot(scaled_data, ax=ax[1], kde=True, legend=False)\n",
    "ax[1].set_title(\"Scaled data\")\n",
    "plt.show()"
   ]
  },
  {
   "cell_type": "code",
   "execution_count": 6,
   "id": "2cf68798",
   "metadata": {},
   "outputs": [],
   "source": [
    "fig.savefig(\"Normalized.png\")"
   ]
  },
  {
   "cell_type": "markdown",
   "id": "db6c2d03",
   "metadata": {},
   "source": [
    "### Normalization"
   ]
  },
  {
   "cell_type": "code",
   "execution_count": 7,
   "id": "79dbc335",
   "metadata": {},
   "outputs": [
    {
     "data": {
      "image/png": "[encoded data removed]",
      "text/plain": [
       "<Figure size 1080x216 with 2 Axes>"
      ]
     },
     "metadata": {
      "needs_background": "light"
     },
     "output_type": "display_data"
    }
   ],
   "source": [
    "normalized_data = stats.boxcox(original_data)\n",
    "# plot both together to compare\n",
    "fig, ax=plt.subplots(1, 2, figsize=(15, 3))\n",
    "sns.histplot(original_data, ax=ax[0], kde=True, legend=False)\n",
    "ax[0].set_title(\"Original Data\")\n",
    "sns.histplot(normalized_data[0], ax=ax[1], kde=True, legend=False)\n",
    "ax[1].set_title(\"Normalized data\")\n",
    "plt.show()"
   ]
  },
  {
   "cell_type": "markdown",
   "id": "a4cf325b",
   "metadata": {},
   "source": [
    "# Parsing Dates"
   ]
  },
  {
   "cell_type": "code",
   "execution_count": 8,
   "id": "c3ee9f2a",
   "metadata": {},
   "outputs": [],
   "source": [
    "earthquakes = pd.read_csv(\"database.csv\")"
   ]
  },
  {
   "cell_type": "code",
   "execution_count": 9,
   "id": "e53687ed",
   "metadata": {},
   "outputs": [
    {
     "data": {
      "text/plain": [
       "Index(['Date', 'Time', 'Latitude', 'Longitude', 'Type', 'Depth', 'Depth Error',\n",
       "       'Depth Seismic Stations', 'Magnitude', 'Magnitude Type',\n",
       "       'Magnitude Error', 'Magnitude Seismic Stations', 'Azimuthal Gap',\n",
       "       'Horizontal Distance', 'Horizontal Error', 'Root Mean Square', 'ID',\n",
       "       'Source', 'Location Source', 'Magnitude Source', 'Status'],\n",
       "      dtype='object')"
      ]
     },
     "execution_count": 9,
     "metadata": {},
     "output_type": "execute_result"
    }
   ],
   "source": [
    "earthquakes.columns"
   ]
  },
  {
   "cell_type": "code",
   "execution_count": 10,
   "id": "ea42b417",
   "metadata": {},
   "outputs": [
    {
     "name": "stdout",
     "output_type": "stream",
     "text": [
      "object\n"
     ]
    }
   ],
   "source": [
    "print(earthquakes['Date'].dtype)"
   ]
  },
  {
   "cell_type": "code",
   "execution_count": 12,
   "id": "a09133a3",
   "metadata": {},
   "outputs": [
    {
     "data": {
      "text/plain": [
       "0        10\n",
       "1        10\n",
       "2        10\n",
       "3        10\n",
       "4        10\n",
       "         ..\n",
       "23407    10\n",
       "23408    10\n",
       "23409    10\n",
       "23410    10\n",
       "23411    10\n",
       "Name: Date, Length: 23412, dtype: int64"
      ]
     },
     "execution_count": 12,
     "metadata": {},
     "output_type": "execute_result"
    }
   ],
   "source": [
    "dates_length = earthquakes.Date.str.len()\n",
    "dates_length"
   ]
  },
  {
   "cell_type": "code",
   "execution_count": 13,
   "id": "6b7e1dde",
   "metadata": {},
   "outputs": [
    {
     "data": {
      "text/plain": [
       "10    23409\n",
       "24        3\n",
       "Name: Date, dtype: int64"
      ]
     },
     "execution_count": 13,
     "metadata": {},
     "output_type": "execute_result"
    }
   ],
   "source": [
    "dates_length.value_counts()"
   ]
  },
  {
   "cell_type": "code",
   "execution_count": 15,
   "id": "5f5ee74e",
   "metadata": {},
   "outputs": [],
   "source": [
    "indices = np.where([dates_length==24])[1]"
   ]
  },
  {
   "cell_type": "code",
   "execution_count": 16,
   "id": "5fe94b61",
   "metadata": {},
   "outputs": [
    {
     "data": {
      "text/html": [
       "<div>\n",
       "<style scoped>\n",
       "    .dataframe tbody tr th:only-of-type {\n",
       "        vertical-align: middle;\n",
       "    }\n",
       "\n",
       "    .dataframe tbody tr th {\n",
       "        vertical-align: top;\n",
       "    }\n",
       "\n",
       "    .dataframe thead th {\n",
       "        text-align: right;\n",
       "    }\n",
       "</style>\n",
       "<table border=\"1\" class=\"dataframe\">\n",
       "  <thead>\n",
       "    <tr style=\"text-align: right;\">\n",
       "      <th></th>\n",
       "      <th>Date</th>\n",
       "      <th>Time</th>\n",
       "      <th>Latitude</th>\n",
       "      <th>Longitude</th>\n",
       "      <th>Type</th>\n",
       "      <th>Depth</th>\n",
       "      <th>Depth Error</th>\n",
       "      <th>Depth Seismic Stations</th>\n",
       "      <th>Magnitude</th>\n",
       "      <th>Magnitude Type</th>\n",
       "      <th>...</th>\n",
       "      <th>Magnitude Seismic Stations</th>\n",
       "      <th>Azimuthal Gap</th>\n",
       "      <th>Horizontal Distance</th>\n",
       "      <th>Horizontal Error</th>\n",
       "      <th>Root Mean Square</th>\n",
       "      <th>ID</th>\n",
       "      <th>Source</th>\n",
       "      <th>Location Source</th>\n",
       "      <th>Magnitude Source</th>\n",
       "      <th>Status</th>\n",
       "    </tr>\n",
       "  </thead>\n",
       "  <tbody>\n",
       "    <tr>\n",
       "      <th>3378</th>\n",
       "      <td>1975-02-23T02:58:41.000Z</td>\n",
       "      <td>1975-02-23T02:58:41.000Z</td>\n",
       "      <td>8.017</td>\n",
       "      <td>124.075</td>\n",
       "      <td>Earthquake</td>\n",
       "      <td>623.0</td>\n",
       "      <td>NaN</td>\n",
       "      <td>NaN</td>\n",
       "      <td>5.6</td>\n",
       "      <td>MB</td>\n",
       "      <td>...</td>\n",
       "      <td>NaN</td>\n",
       "      <td>NaN</td>\n",
       "      <td>NaN</td>\n",
       "      <td>NaN</td>\n",
       "      <td>NaN</td>\n",
       "      <td>USP0000A09</td>\n",
       "      <td>US</td>\n",
       "      <td>US</td>\n",
       "      <td>US</td>\n",
       "      <td>Reviewed</td>\n",
       "    </tr>\n",
       "    <tr>\n",
       "      <th>7512</th>\n",
       "      <td>1985-04-28T02:53:41.530Z</td>\n",
       "      <td>1985-04-28T02:53:41.530Z</td>\n",
       "      <td>-32.998</td>\n",
       "      <td>-71.766</td>\n",
       "      <td>Earthquake</td>\n",
       "      <td>33.0</td>\n",
       "      <td>NaN</td>\n",
       "      <td>NaN</td>\n",
       "      <td>5.6</td>\n",
       "      <td>MW</td>\n",
       "      <td>...</td>\n",
       "      <td>NaN</td>\n",
       "      <td>NaN</td>\n",
       "      <td>NaN</td>\n",
       "      <td>NaN</td>\n",
       "      <td>1.30</td>\n",
       "      <td>USP0002E81</td>\n",
       "      <td>US</td>\n",
       "      <td>US</td>\n",
       "      <td>HRV</td>\n",
       "      <td>Reviewed</td>\n",
       "    </tr>\n",
       "    <tr>\n",
       "      <th>20650</th>\n",
       "      <td>2011-03-13T02:23:34.520Z</td>\n",
       "      <td>2011-03-13T02:23:34.520Z</td>\n",
       "      <td>36.344</td>\n",
       "      <td>142.344</td>\n",
       "      <td>Earthquake</td>\n",
       "      <td>10.1</td>\n",
       "      <td>13.9</td>\n",
       "      <td>289.0</td>\n",
       "      <td>5.8</td>\n",
       "      <td>MWC</td>\n",
       "      <td>...</td>\n",
       "      <td>NaN</td>\n",
       "      <td>32.3</td>\n",
       "      <td>NaN</td>\n",
       "      <td>NaN</td>\n",
       "      <td>1.06</td>\n",
       "      <td>USP000HWQP</td>\n",
       "      <td>US</td>\n",
       "      <td>US</td>\n",
       "      <td>GCMT</td>\n",
       "      <td>Reviewed</td>\n",
       "    </tr>\n",
       "  </tbody>\n",
       "</table>\n",
       "<p>3 rows × 21 columns</p>\n",
       "</div>"
      ],
      "text/plain": [
       "                           Date                      Time  Latitude  \\\n",
       "3378   1975-02-23T02:58:41.000Z  1975-02-23T02:58:41.000Z     8.017   \n",
       "7512   1985-04-28T02:53:41.530Z  1985-04-28T02:53:41.530Z   -32.998   \n",
       "20650  2011-03-13T02:23:34.520Z  2011-03-13T02:23:34.520Z    36.344   \n",
       "\n",
       "       Longitude        Type  Depth  Depth Error  Depth Seismic Stations  \\\n",
       "3378     124.075  Earthquake  623.0          NaN                     NaN   \n",
       "7512     -71.766  Earthquake   33.0          NaN                     NaN   \n",
       "20650    142.344  Earthquake   10.1         13.9                   289.0   \n",
       "\n",
       "       Magnitude Magnitude Type  ...  Magnitude Seismic Stations  \\\n",
       "3378         5.6             MB  ...                         NaN   \n",
       "7512         5.6             MW  ...                         NaN   \n",
       "20650        5.8            MWC  ...                         NaN   \n",
       "\n",
       "       Azimuthal Gap  Horizontal Distance  Horizontal Error  Root Mean Square  \\\n",
       "3378             NaN                  NaN               NaN               NaN   \n",
       "7512             NaN                  NaN               NaN              1.30   \n",
       "20650           32.3                  NaN               NaN              1.06   \n",
       "\n",
       "               ID Source Location Source Magnitude Source    Status  \n",
       "3378   USP0000A09     US              US               US  Reviewed  \n",
       "7512   USP0002E81     US              US              HRV  Reviewed  \n",
       "20650  USP000HWQP     US              US             GCMT  Reviewed  \n",
       "\n",
       "[3 rows x 21 columns]"
      ]
     },
     "execution_count": 16,
     "metadata": {},
     "output_type": "execute_result"
    }
   ],
   "source": [
    "earthquakes.loc[indices]"
   ]
  },
  {
   "cell_type": "code",
   "execution_count": 19,
   "id": "f663b4f9",
   "metadata": {},
   "outputs": [],
   "source": [
    "earthquakes.Date.loc[3378] = \"12/3/1973\"\n",
    "earthquakes.Date.loc[7512] = \"12/3/1973\"\n",
    "earthquakes.Date.loc[20650] = \"12/3/1973\"\n"
   ]
  },
  {
   "cell_type": "code",
   "execution_count": 20,
   "id": "7e5065f6",
   "metadata": {},
   "outputs": [
    {
     "data": {
      "text/html": [
       "<div>\n",
       "<style scoped>\n",
       "    .dataframe tbody tr th:only-of-type {\n",
       "        vertical-align: middle;\n",
       "    }\n",
       "\n",
       "    .dataframe tbody tr th {\n",
       "        vertical-align: top;\n",
       "    }\n",
       "\n",
       "    .dataframe thead th {\n",
       "        text-align: right;\n",
       "    }\n",
       "</style>\n",
       "<table border=\"1\" class=\"dataframe\">\n",
       "  <thead>\n",
       "    <tr style=\"text-align: right;\">\n",
       "      <th></th>\n",
       "      <th>Date</th>\n",
       "      <th>Time</th>\n",
       "      <th>Latitude</th>\n",
       "      <th>Longitude</th>\n",
       "      <th>Type</th>\n",
       "      <th>Depth</th>\n",
       "      <th>Depth Error</th>\n",
       "      <th>Depth Seismic Stations</th>\n",
       "      <th>Magnitude</th>\n",
       "      <th>Magnitude Type</th>\n",
       "      <th>...</th>\n",
       "      <th>Magnitude Seismic Stations</th>\n",
       "      <th>Azimuthal Gap</th>\n",
       "      <th>Horizontal Distance</th>\n",
       "      <th>Horizontal Error</th>\n",
       "      <th>Root Mean Square</th>\n",
       "      <th>ID</th>\n",
       "      <th>Source</th>\n",
       "      <th>Location Source</th>\n",
       "      <th>Magnitude Source</th>\n",
       "      <th>Status</th>\n",
       "    </tr>\n",
       "  </thead>\n",
       "  <tbody>\n",
       "    <tr>\n",
       "      <th>3378</th>\n",
       "      <td>12/3/1973</td>\n",
       "      <td>12/3/1973</td>\n",
       "      <td>12/3/1973</td>\n",
       "      <td>12/3/1973</td>\n",
       "      <td>12/3/1973</td>\n",
       "      <td>12/3/1973</td>\n",
       "      <td>12/3/1973</td>\n",
       "      <td>12/3/1973</td>\n",
       "      <td>12/3/1973</td>\n",
       "      <td>12/3/1973</td>\n",
       "      <td>...</td>\n",
       "      <td>12/3/1973</td>\n",
       "      <td>12/3/1973</td>\n",
       "      <td>12/3/1973</td>\n",
       "      <td>12/3/1973</td>\n",
       "      <td>12/3/1973</td>\n",
       "      <td>12/3/1973</td>\n",
       "      <td>12/3/1973</td>\n",
       "      <td>12/3/1973</td>\n",
       "      <td>12/3/1973</td>\n",
       "      <td>12/3/1973</td>\n",
       "    </tr>\n",
       "    <tr>\n",
       "      <th>7512</th>\n",
       "      <td>12/3/1973</td>\n",
       "      <td>12/3/1973</td>\n",
       "      <td>12/3/1973</td>\n",
       "      <td>12/3/1973</td>\n",
       "      <td>12/3/1973</td>\n",
       "      <td>12/3/1973</td>\n",
       "      <td>12/3/1973</td>\n",
       "      <td>12/3/1973</td>\n",
       "      <td>12/3/1973</td>\n",
       "      <td>12/3/1973</td>\n",
       "      <td>...</td>\n",
       "      <td>12/3/1973</td>\n",
       "      <td>12/3/1973</td>\n",
       "      <td>12/3/1973</td>\n",
       "      <td>12/3/1973</td>\n",
       "      <td>12/3/1973</td>\n",
       "      <td>12/3/1973</td>\n",
       "      <td>12/3/1973</td>\n",
       "      <td>12/3/1973</td>\n",
       "      <td>12/3/1973</td>\n",
       "      <td>12/3/1973</td>\n",
       "    </tr>\n",
       "    <tr>\n",
       "      <th>20650</th>\n",
       "      <td>12/3/1973</td>\n",
       "      <td>12/3/1973</td>\n",
       "      <td>12/3/1973</td>\n",
       "      <td>12/3/1973</td>\n",
       "      <td>12/3/1973</td>\n",
       "      <td>12/3/1973</td>\n",
       "      <td>12/3/1973</td>\n",
       "      <td>12/3/1973</td>\n",
       "      <td>12/3/1973</td>\n",
       "      <td>12/3/1973</td>\n",
       "      <td>...</td>\n",
       "      <td>12/3/1973</td>\n",
       "      <td>12/3/1973</td>\n",
       "      <td>12/3/1973</td>\n",
       "      <td>12/3/1973</td>\n",
       "      <td>12/3/1973</td>\n",
       "      <td>12/3/1973</td>\n",
       "      <td>12/3/1973</td>\n",
       "      <td>12/3/1973</td>\n",
       "      <td>12/3/1973</td>\n",
       "      <td>12/3/1973</td>\n",
       "    </tr>\n",
       "  </tbody>\n",
       "</table>\n",
       "<p>3 rows × 21 columns</p>\n",
       "</div>"
      ],
      "text/plain": [
       "            Date       Time   Latitude  Longitude       Type      Depth  \\\n",
       "3378   12/3/1973  12/3/1973  12/3/1973  12/3/1973  12/3/1973  12/3/1973   \n",
       "7512   12/3/1973  12/3/1973  12/3/1973  12/3/1973  12/3/1973  12/3/1973   \n",
       "20650  12/3/1973  12/3/1973  12/3/1973  12/3/1973  12/3/1973  12/3/1973   \n",
       "\n",
       "      Depth Error Depth Seismic Stations  Magnitude Magnitude Type  ...  \\\n",
       "3378    12/3/1973              12/3/1973  12/3/1973      12/3/1973  ...   \n",
       "7512    12/3/1973              12/3/1973  12/3/1973      12/3/1973  ...   \n",
       "20650   12/3/1973              12/3/1973  12/3/1973      12/3/1973  ...   \n",
       "\n",
       "      Magnitude Seismic Stations Azimuthal Gap Horizontal Distance  \\\n",
       "3378                   12/3/1973     12/3/1973           12/3/1973   \n",
       "7512                   12/3/1973     12/3/1973           12/3/1973   \n",
       "20650                  12/3/1973     12/3/1973           12/3/1973   \n",
       "\n",
       "      Horizontal Error Root Mean Square         ID     Source Location Source  \\\n",
       "3378         12/3/1973        12/3/1973  12/3/1973  12/3/1973       12/3/1973   \n",
       "7512         12/3/1973        12/3/1973  12/3/1973  12/3/1973       12/3/1973   \n",
       "20650        12/3/1973        12/3/1973  12/3/1973  12/3/1973       12/3/1973   \n",
       "\n",
       "      Magnitude Source     Status  \n",
       "3378         12/3/1973  12/3/1973  \n",
       "7512         12/3/1973  12/3/1973  \n",
       "20650        12/3/1973  12/3/1973  \n",
       "\n",
       "[3 rows x 21 columns]"
      ]
     },
     "execution_count": 20,
     "metadata": {},
     "output_type": "execute_result"
    }
   ],
   "source": [
    "earthquakes.iloc[indices]"
   ]
  },
  {
   "cell_type": "code",
   "execution_count": 22,
   "id": "2dad4094",
   "metadata": {},
   "outputs": [],
   "source": [
    "earthquakes['date_parsed'] = pd.to_datetime(earthquakes['Date'], format=\"%m/%d/%Y\")"
   ]
  },
  {
   "cell_type": "code",
   "execution_count": 23,
   "id": "92e2c7a8",
   "metadata": {},
   "outputs": [
    {
     "name": "stdout",
     "output_type": "stream",
     "text": [
      "datetime64[ns]\n"
     ]
    }
   ],
   "source": [
    "print(earthquakes['date_parsed'].dtype)"
   ]
  },
  {
   "cell_type": "code",
   "execution_count": 24,
   "id": "b69adb1f",
   "metadata": {},
   "outputs": [
    {
     "data": {
      "text/plain": [
       "0        01/02/1965\n",
       "1        01/04/1965\n",
       "2        01/05/1965\n",
       "3        01/08/1965\n",
       "4        01/09/1965\n",
       "            ...    \n",
       "23407    12/28/2016\n",
       "23408    12/28/2016\n",
       "23409    12/28/2016\n",
       "23410    12/29/2016\n",
       "23411    12/30/2016\n",
       "Name: Date, Length: 23412, dtype: object"
      ]
     },
     "execution_count": 24,
     "metadata": {},
     "output_type": "execute_result"
    }
   ],
   "source": [
    "earthquakes.Date"
   ]
  },
  {
   "cell_type": "code",
   "execution_count": 75,
   "id": "6020be90",
   "metadata": {},
   "outputs": [],
   "source": [
    "#select the day of the month\n",
    "day_of_the_month = earthquakes['date_parsed'].dt.day"
   ]
  },
  {
   "cell_type": "code",
   "execution_count": 76,
   "id": "c91d6c89",
   "metadata": {},
   "outputs": [],
   "source": [
    "day_of_the_month = day_of_the_month.dropna()"
   ]
  },
  {
   "cell_type": "code",
   "execution_count": 78,
   "id": "936cd6dc",
   "metadata": {},
   "outputs": [
    {
     "data": {
      "image/png": "[encoded data removed]",
      "text/plain": [
       "<Figure size 360x360 with 1 Axes>"
      ]
     },
     "metadata": {
      "needs_background": "light"
     },
     "output_type": "display_data"
    }
   ],
   "source": [
    "sns.displot(day_of_the_month, kde= False, bins=31);"
   ]
  },
  {
   "cell_type": "markdown",
   "id": "2be36d22",
   "metadata": {},
   "source": [
    "# Character Encoding\n",
    "Character encodings are specific sets of rules for mapping from raw binary byte strings (that look like this: 0110100001101001) to characters that make up human-readable text (like \"hi\").\n",
    " There are many different encodings, and if you tried to read in text with a different encoding than the one it was originally written in, you ended up with scrambled tex"
   ]
  },
  {
   "cell_type": "code",
   "execution_count": 70,
   "id": "16a3b9ae",
   "metadata": {},
   "outputs": [],
   "source": [
    "import chardet"
   ]
  },
  {
   "cell_type": "code",
   "execution_count": 71,
   "id": "b6c8d4aa",
   "metadata": {},
   "outputs": [
    {
     "data": {
      "text/plain": [
       "str"
      ]
     },
     "execution_count": 71,
     "metadata": {},
     "output_type": "execute_result"
    }
   ],
   "source": [
    "# start with a string\n",
    "before = \"This is the euro symbol: €\"\n",
    "\n",
    "# check to see what datatype it is\n",
    "type(before)"
   ]
  },
  {
   "cell_type": "code",
   "execution_count": 77,
   "id": "320d68ad",
   "metadata": {},
   "outputs": [
    {
     "data": {
      "text/plain": [
       "bytes"
      ]
     },
     "execution_count": 77,
     "metadata": {},
     "output_type": "execute_result"
    }
   ],
   "source": [
    "# encode it to a different encoding, replacing characters that raise errors\n",
    "\n",
    "after = before.encode(\"utf-8\", errors=\"replace\")\n",
    "\n",
    "# check the type\n",
    "\n",
    "type(after)"
   ]
  },
  {
   "cell_type": "code",
   "execution_count": 76,
   "id": "d8f8f89b",
   "metadata": {},
   "outputs": [
    {
     "name": "stdout",
     "output_type": "stream",
     "text": [
      "This is the euro symbol: €\n"
     ]
    }
   ],
   "source": [
    "#convert it back to utf-8\n",
    "\n",
    "print(after.decode(\"utf-8\"))"
   ]
  },
  {
   "cell_type": "markdown",
   "id": "c3b619a8",
   "metadata": {},
   "source": [
    "You can think of different encodings as different ways of recording music. You can record the same music on a CD, cassette tape or 8-track. While the music may sound more-or-less the same, you need to use the right equipment to play the music from each recording format. The correct decoder is like a cassette player or a CD player. If you try to play a cassette in a CD player, it just won't work."
   ]
  },
  {
   "cell_type": "code",
   "execution_count": 78,
   "id": "30cfd595",
   "metadata": {},
   "outputs": [
    {
     "ename": "UnicodeDecodeError",
     "evalue": "'ascii' codec can't decode byte 0xe2 in position 25: ordinal not in range(128)",
     "output_type": "error",
     "traceback": [
      "\u001b[1;31m---------------------------------------------------------------------------\u001b[0m",
      "\u001b[1;31mUnicodeDecodeError\u001b[0m                        Traceback (most recent call last)",
      "\u001b[1;32m<ipython-input-78-4bf4b16e1feb>\u001b[0m in \u001b[0;36m<module>\u001b[1;34m\u001b[0m\n\u001b[1;32m----> 1\u001b[1;33m \u001b[0mprint\u001b[0m\u001b[1;33m(\u001b[0m\u001b[0mafter\u001b[0m\u001b[1;33m.\u001b[0m\u001b[0mdecode\u001b[0m\u001b[1;33m(\u001b[0m\u001b[1;34m\"ascii\"\u001b[0m\u001b[1;33m)\u001b[0m\u001b[1;33m)\u001b[0m\u001b[1;33m\u001b[0m\u001b[1;33m\u001b[0m\u001b[0m\n\u001b[0m",
      "\u001b[1;31mUnicodeDecodeError\u001b[0m: 'ascii' codec can't decode byte 0xe2 in position 25: ordinal not in range(128)"
     ]
    }
   ],
   "source": [
    "print(after.decode(\"ascii\"))"
   ]
  },
  {
   "cell_type": "code",
   "execution_count": 86,
   "id": "d89156bd",
   "metadata": {},
   "outputs": [
    {
     "name": "stdout",
     "output_type": "stream",
     "text": [
      "b'This is the  symbol: ?'\n",
      "This is the  symbol: ?\n"
     ]
    }
   ],
   "source": [
    "before = \"This is the  symbol: €\"\n",
    "\n",
    "after = before.encode(\"ascii\", errors='replace')\n",
    "\n",
    "print(after)\n",
    "\n",
    "print(after.decode(\"utf-8\"))"
   ]
  },
  {
   "cell_type": "code",
   "execution_count": null,
   "id": "db838746",
   "metadata": {},
   "outputs": [],
   "source": []
  },
  {
   "cell_type": "markdown",
   "id": "fbc8637d",
   "metadata": {},
   "source": [
    "### Reading files with encoding problems\n",
    "Most files you'll encounter will probably be encoded with UTF-8. This is what Python expects by default, so most of the time you won't run into problems. However, sometimes you'll get an error like this: UnicodeDecodeError: 'utf-8' codec can't decode byte 0x99 in position 7955: invalid start byte"
   ]
  },
  {
   "cell_type": "code",
   "execution_count": 87,
   "id": "e3cd39cb",
   "metadata": {},
   "outputs": [
    {
     "data": {
      "text/html": [
       "<div>\n",
       "<style scoped>\n",
       "    .dataframe tbody tr th:only-of-type {\n",
       "        vertical-align: middle;\n",
       "    }\n",
       "\n",
       "    .dataframe tbody tr th {\n",
       "        vertical-align: top;\n",
       "    }\n",
       "\n",
       "    .dataframe thead th {\n",
       "        text-align: right;\n",
       "    }\n",
       "</style>\n",
       "<table border=\"1\" class=\"dataframe\">\n",
       "  <thead>\n",
       "    <tr style=\"text-align: right;\">\n",
       "      <th></th>\n",
       "      <th>id</th>\n",
       "      <th>name</th>\n",
       "      <th>date</th>\n",
       "      <th>manner_of_death</th>\n",
       "      <th>armed</th>\n",
       "      <th>age</th>\n",
       "      <th>gender</th>\n",
       "      <th>race</th>\n",
       "      <th>city</th>\n",
       "      <th>state</th>\n",
       "      <th>signs_of_mental_illness</th>\n",
       "      <th>threat_level</th>\n",
       "      <th>flee</th>\n",
       "      <th>body_camera</th>\n",
       "    </tr>\n",
       "  </thead>\n",
       "  <tbody>\n",
       "    <tr>\n",
       "      <th>0</th>\n",
       "      <td>3</td>\n",
       "      <td>Tim Elliot</td>\n",
       "      <td>02/01/15</td>\n",
       "      <td>shot</td>\n",
       "      <td>gun</td>\n",
       "      <td>53.0</td>\n",
       "      <td>M</td>\n",
       "      <td>A</td>\n",
       "      <td>Shelton</td>\n",
       "      <td>WA</td>\n",
       "      <td>True</td>\n",
       "      <td>attack</td>\n",
       "      <td>Not fleeing</td>\n",
       "      <td>False</td>\n",
       "    </tr>\n",
       "    <tr>\n",
       "      <th>1</th>\n",
       "      <td>4</td>\n",
       "      <td>Lewis Lee Lembke</td>\n",
       "      <td>02/01/15</td>\n",
       "      <td>shot</td>\n",
       "      <td>gun</td>\n",
       "      <td>47.0</td>\n",
       "      <td>M</td>\n",
       "      <td>W</td>\n",
       "      <td>Aloha</td>\n",
       "      <td>OR</td>\n",
       "      <td>False</td>\n",
       "      <td>attack</td>\n",
       "      <td>Not fleeing</td>\n",
       "      <td>False</td>\n",
       "    </tr>\n",
       "    <tr>\n",
       "      <th>2</th>\n",
       "      <td>5</td>\n",
       "      <td>John Paul Quintero</td>\n",
       "      <td>03/01/15</td>\n",
       "      <td>shot and Tasered</td>\n",
       "      <td>unarmed</td>\n",
       "      <td>23.0</td>\n",
       "      <td>M</td>\n",
       "      <td>H</td>\n",
       "      <td>Wichita</td>\n",
       "      <td>KS</td>\n",
       "      <td>False</td>\n",
       "      <td>other</td>\n",
       "      <td>Not fleeing</td>\n",
       "      <td>False</td>\n",
       "    </tr>\n",
       "    <tr>\n",
       "      <th>3</th>\n",
       "      <td>8</td>\n",
       "      <td>Matthew Hoffman</td>\n",
       "      <td>04/01/15</td>\n",
       "      <td>shot</td>\n",
       "      <td>toy weapon</td>\n",
       "      <td>32.0</td>\n",
       "      <td>M</td>\n",
       "      <td>W</td>\n",
       "      <td>San Francisco</td>\n",
       "      <td>CA</td>\n",
       "      <td>True</td>\n",
       "      <td>attack</td>\n",
       "      <td>Not fleeing</td>\n",
       "      <td>False</td>\n",
       "    </tr>\n",
       "    <tr>\n",
       "      <th>4</th>\n",
       "      <td>9</td>\n",
       "      <td>Michael Rodriguez</td>\n",
       "      <td>04/01/15</td>\n",
       "      <td>shot</td>\n",
       "      <td>nail gun</td>\n",
       "      <td>39.0</td>\n",
       "      <td>M</td>\n",
       "      <td>H</td>\n",
       "      <td>Evans</td>\n",
       "      <td>CO</td>\n",
       "      <td>False</td>\n",
       "      <td>attack</td>\n",
       "      <td>Not fleeing</td>\n",
       "      <td>False</td>\n",
       "    </tr>\n",
       "  </tbody>\n",
       "</table>\n",
       "</div>"
      ],
      "text/plain": [
       "   id                name      date   manner_of_death       armed   age  \\\n",
       "0   3          Tim Elliot  02/01/15              shot         gun  53.0   \n",
       "1   4    Lewis Lee Lembke  02/01/15              shot         gun  47.0   \n",
       "2   5  John Paul Quintero  03/01/15  shot and Tasered     unarmed  23.0   \n",
       "3   8     Matthew Hoffman  04/01/15              shot  toy weapon  32.0   \n",
       "4   9   Michael Rodriguez  04/01/15              shot    nail gun  39.0   \n",
       "\n",
       "  gender race           city state  signs_of_mental_illness threat_level  \\\n",
       "0      M    A        Shelton    WA                     True       attack   \n",
       "1      M    W          Aloha    OR                    False       attack   \n",
       "2      M    H        Wichita    KS                    False        other   \n",
       "3      M    W  San Francisco    CA                     True       attack   \n",
       "4      M    H          Evans    CO                    False       attack   \n",
       "\n",
       "          flee  body_camera  \n",
       "0  Not fleeing        False  \n",
       "1  Not fleeing        False  \n",
       "2  Not fleeing        False  \n",
       "3  Not fleeing        False  \n",
       "4  Not fleeing        False  "
      ]
     },
     "execution_count": 87,
     "metadata": {},
     "output_type": "execute_result"
    }
   ],
   "source": [
    "police_kiling= pd.read_csv(\"PoliceKillingsUS.csv\", index_col = 0)\n",
    "police_kiling.head()"
   ]
  },
  {
   "cell_type": "code",
   "execution_count": 88,
   "id": "4de72ba5",
   "metadata": {},
   "outputs": [],
   "source": [
    "#saving file with utf-8 encoding\n",
    "police_kiling.to_csv(\"PoliceKillingsUS.csv\", encoding = \"utf-8\")"
   ]
  },
  {
   "cell_type": "markdown",
   "id": "ab17abd2",
   "metadata": {},
   "source": [
    "# Inconsistent data\n",
    "Hot to handle incositent text entries in data"
   ]
  },
  {
   "cell_type": "code",
   "execution_count": 49,
   "id": "83179c9d",
   "metadata": {},
   "outputs": [],
   "source": [
    "import fuzzywuzzy\n",
    "from fuzzywuzzy import process"
   ]
  },
  {
   "cell_type": "code",
   "execution_count": 33,
   "id": "bb219ae5",
   "metadata": {},
   "outputs": [],
   "source": [
    "professors = pd.read_csv(\"pakistan_intellectual_capital.csv\", index_col=0)"
   ]
  },
  {
   "cell_type": "code",
   "execution_count": 34,
   "id": "d9446573",
   "metadata": {},
   "outputs": [
    {
     "data": {
      "text/html": [
       "<div>\n",
       "<style scoped>\n",
       "    .dataframe tbody tr th:only-of-type {\n",
       "        vertical-align: middle;\n",
       "    }\n",
       "\n",
       "    .dataframe tbody tr th {\n",
       "        vertical-align: top;\n",
       "    }\n",
       "\n",
       "    .dataframe thead th {\n",
       "        text-align: right;\n",
       "    }\n",
       "</style>\n",
       "<table border=\"1\" class=\"dataframe\">\n",
       "  <thead>\n",
       "    <tr style=\"text-align: right;\">\n",
       "      <th></th>\n",
       "      <th>S#</th>\n",
       "      <th>Teacher Name</th>\n",
       "      <th>University Currently Teaching</th>\n",
       "      <th>Department</th>\n",
       "      <th>Province University Located</th>\n",
       "      <th>Designation</th>\n",
       "      <th>Terminal Degree</th>\n",
       "      <th>Graduated from</th>\n",
       "      <th>Country</th>\n",
       "      <th>Year</th>\n",
       "      <th>Area of Specialization/Research Interests</th>\n",
       "      <th>Other Information</th>\n",
       "    </tr>\n",
       "  </thead>\n",
       "  <tbody>\n",
       "    <tr>\n",
       "      <th>2</th>\n",
       "      <td>3</td>\n",
       "      <td>Dr. Abdul Basit</td>\n",
       "      <td>University of Balochistan</td>\n",
       "      <td>Computer Science &amp; IT</td>\n",
       "      <td>Balochistan</td>\n",
       "      <td>Assistant Professor</td>\n",
       "      <td>PhD</td>\n",
       "      <td>Asian Institute of Technology</td>\n",
       "      <td>Thailand</td>\n",
       "      <td>NaN</td>\n",
       "      <td>Software Engineering &amp; DBMS</td>\n",
       "      <td>NaN</td>\n",
       "    </tr>\n",
       "    <tr>\n",
       "      <th>4</th>\n",
       "      <td>5</td>\n",
       "      <td>Dr. Waheed Noor</td>\n",
       "      <td>University of Balochistan</td>\n",
       "      <td>Computer Science &amp; IT</td>\n",
       "      <td>Balochistan</td>\n",
       "      <td>Assistant Professor</td>\n",
       "      <td>PhD</td>\n",
       "      <td>Asian Institute of Technology</td>\n",
       "      <td>Thailand</td>\n",
       "      <td>NaN</td>\n",
       "      <td>DBMS</td>\n",
       "      <td>NaN</td>\n",
       "    </tr>\n",
       "    <tr>\n",
       "      <th>5</th>\n",
       "      <td>6</td>\n",
       "      <td>Dr. Junaid Baber</td>\n",
       "      <td>University of Balochistan</td>\n",
       "      <td>Computer Science &amp; IT</td>\n",
       "      <td>Balochistan</td>\n",
       "      <td>Assistant Professor</td>\n",
       "      <td>PhD</td>\n",
       "      <td>Asian Institute of Technology</td>\n",
       "      <td>Thailand</td>\n",
       "      <td>NaN</td>\n",
       "      <td>Information processing, Multimedia mining</td>\n",
       "      <td>NaN</td>\n",
       "    </tr>\n",
       "    <tr>\n",
       "      <th>6</th>\n",
       "      <td>7</td>\n",
       "      <td>Dr. Maheen Bakhtyar</td>\n",
       "      <td>University of Balochistan</td>\n",
       "      <td>Computer Science &amp; IT</td>\n",
       "      <td>Balochistan</td>\n",
       "      <td>Assistant Professor</td>\n",
       "      <td>PhD</td>\n",
       "      <td>Asian Institute of Technology</td>\n",
       "      <td>Thailand</td>\n",
       "      <td>NaN</td>\n",
       "      <td>NLP, Information Retrieval, Question Answering...</td>\n",
       "      <td>NaN</td>\n",
       "    </tr>\n",
       "    <tr>\n",
       "      <th>24</th>\n",
       "      <td>25</td>\n",
       "      <td>Samina Azim</td>\n",
       "      <td>Sardar Bahadur Khan Women's University</td>\n",
       "      <td>Computer Science</td>\n",
       "      <td>Balochistan</td>\n",
       "      <td>Lecturer</td>\n",
       "      <td>BS</td>\n",
       "      <td>Balochistan University of Information Technolo...</td>\n",
       "      <td>Pakistan</td>\n",
       "      <td>2005.0</td>\n",
       "      <td>VLSI Electronics DLD Database</td>\n",
       "      <td>NaN</td>\n",
       "    </tr>\n",
       "  </tbody>\n",
       "</table>\n",
       "</div>"
      ],
      "text/plain": [
       "    S#         Teacher Name           University Currently Teaching  \\\n",
       "2    3      Dr. Abdul Basit               University of Balochistan   \n",
       "4    5      Dr. Waheed Noor               University of Balochistan   \n",
       "5    6     Dr. Junaid Baber               University of Balochistan   \n",
       "6    7  Dr. Maheen Bakhtyar               University of Balochistan   \n",
       "24  25          Samina Azim  Sardar Bahadur Khan Women's University   \n",
       "\n",
       "               Department Province University Located          Designation  \\\n",
       "2   Computer Science & IT                 Balochistan  Assistant Professor   \n",
       "4   Computer Science & IT                 Balochistan  Assistant Professor   \n",
       "5   Computer Science & IT                 Balochistan  Assistant Professor   \n",
       "6   Computer Science & IT                 Balochistan  Assistant Professor   \n",
       "24       Computer Science                 Balochistan             Lecturer   \n",
       "\n",
       "   Terminal Degree                                     Graduated from  \\\n",
       "2              PhD                      Asian Institute of Technology   \n",
       "4              PhD                      Asian Institute of Technology   \n",
       "5              PhD                      Asian Institute of Technology   \n",
       "6              PhD                      Asian Institute of Technology   \n",
       "24              BS  Balochistan University of Information Technolo...   \n",
       "\n",
       "     Country    Year          Area of Specialization/Research Interests  \\\n",
       "2   Thailand     NaN                        Software Engineering & DBMS   \n",
       "4   Thailand     NaN                                               DBMS   \n",
       "5   Thailand     NaN          Information processing, Multimedia mining   \n",
       "6   Thailand     NaN  NLP, Information Retrieval, Question Answering...   \n",
       "24  Pakistan  2005.0                      VLSI Electronics DLD Database   \n",
       "\n",
       "   Other Information  \n",
       "2                NaN  \n",
       "4                NaN  \n",
       "5                NaN  \n",
       "6                NaN  \n",
       "24               NaN  "
      ]
     },
     "execution_count": 34,
     "metadata": {},
     "output_type": "execute_result"
    }
   ],
   "source": [
    "professors.head()"
   ]
  },
  {
   "cell_type": "markdown",
   "id": "c5b35257",
   "metadata": {},
   "source": [
    "Say we're interested in cleaning up the \"Country\" column to make sure there's no data entry inconsistencies in it. We could go through and check each row by hand, of course, and hand-correct inconsistencies when we find them. There's a more efficient way to do this, though!"
   ]
  },
  {
   "cell_type": "code",
   "execution_count": 43,
   "id": "fc960584",
   "metadata": {},
   "outputs": [
    {
     "data": {
      "text/plain": [
       "array([' Germany', ' New Zealand', ' Sweden', ' USA', 'Australia',\n",
       "       'Austria', 'Canada', 'China', 'Finland', 'France', 'Greece',\n",
       "       'HongKong', 'Ireland', 'Italy', 'Japan', 'Macau', 'Malaysia',\n",
       "       'Mauritius', 'Netherland', 'New Zealand', 'Norway', 'Pakistan',\n",
       "       'Portugal', 'Russian Federation', 'Saudi Arabia', 'Scotland',\n",
       "       'Singapore', 'South Korea', 'SouthKorea', 'Spain', 'Sweden',\n",
       "       'Thailand', 'Turkey', 'UK', 'USA', 'USofA', 'Urbana', 'germany'],\n",
       "      dtype=object)"
      ]
     },
     "execution_count": 43,
     "metadata": {},
     "output_type": "execute_result"
    }
   ],
   "source": [
    "countries = professors.Country.unique()\n",
    "countries.sort()\n",
    "countries"
   ]
  },
  {
   "cell_type": "markdown",
   "id": "959d0f06",
   "metadata": {},
   "source": [
    "If we look at the countries names, there are two countries with Germany and germany, three USA with \"USA\", \" USA\" and \"USofA and so one."
   ]
  },
  {
   "cell_type": "markdown",
   "id": "e7ca82d8",
   "metadata": {},
   "source": [
    "First thing we gonna do with the dataset is to convert all the countries names into lower-case and remove whiet spaces at the beginning and at the end of the country name"
   ]
  },
  {
   "cell_type": "code",
   "execution_count": 44,
   "id": "0b2e57d3",
   "metadata": {},
   "outputs": [],
   "source": [
    "#convert to lower case\n",
    "\n",
    "professors['Country'] = professors['Country'].str.lower()\n",
    "\n",
    "# remove trailing white spaces\n",
    "\n",
    "professors['Country'] = professors['Country'].str.strip()\n"
   ]
  },
  {
   "cell_type": "code",
   "execution_count": 47,
   "id": "9d8d8893",
   "metadata": {},
   "outputs": [
    {
     "data": {
      "text/plain": [
       "array(['thailand', 'pakistan', 'germany', 'austria', 'australia', 'uk',\n",
       "       'china', 'france', 'usofa', 'southkorea', 'malaysia', 'sweden',\n",
       "       'italy', 'canada', 'norway', 'ireland', 'new zealand', 'urbana',\n",
       "       'portugal', 'russian federation', 'usa', 'finland', 'netherland',\n",
       "       'greece', 'turkey', 'south korea', 'macau', 'singapore', 'spain',\n",
       "       'japan', 'hongkong', 'saudi arabia', 'mauritius', 'scotland'],\n",
       "      dtype=object)"
      ]
     },
     "execution_count": 47,
     "metadata": {},
     "output_type": "execute_result"
    }
   ],
   "source": [
    "professors.Country.unique()"
   ]
  },
  {
   "cell_type": "markdown",
   "id": "69314a66",
   "metadata": {},
   "source": [
    "After looking at the south korea, we had two entries with \"south korea\" and \"southkorea\" which is the same. let's deal with this. we will use the fuzzy class from the fuzzywuzzy package.\n",
    "Fuzzywuzzy returns a ratio given two strings. The closer the ratio is to 100, the smaller the edit distance between the two strings. Here, we're going to get the ten strings from our list of cities that have the closest distance to \"south korea\"."
   ]
  },
  {
   "cell_type": "code",
   "execution_count": 51,
   "id": "76803af5",
   "metadata": {},
   "outputs": [
    {
     "data": {
      "text/plain": [
       "[('South Korea', 100),\n",
       " ('SouthKorea', 48),\n",
       " ('Saudi Arabia', 43),\n",
       " ('Norway', 35),\n",
       " ('Austria', 33),\n",
       " ('Ireland', 33),\n",
       " ('Pakistan', 32),\n",
       " ('Portugal', 32),\n",
       " ('Scotland', 32),\n",
       " ('Australia', 30)]"
      ]
     },
     "execution_count": 51,
     "metadata": {},
     "output_type": "execute_result"
    }
   ],
   "source": [
    "# get the top 10 closest matches to \"south korea\"\n",
    "matches = fuzzywuzzy.process.extract(\"south korea\", countries, limit=10, scorer=fuzzywuzzy.fuzz.token_sort_ratio)\n",
    "matches"
   ]
  },
  {
   "cell_type": "code",
   "execution_count": 52,
   "id": "24382416",
   "metadata": {},
   "outputs": [],
   "source": [
    "# function to replace rows in the provided column of the provided dataframe\n",
    "# that match the provided string above the provided ratio with the provided string\n",
    "def replace_matches_in_column(df, column, string_to_match, min_ratio = 47):\n",
    "    # get a list of unique strings\n",
    "    strings = df[column].unique()\n",
    "    \n",
    "    # get the top 10 closest matches to our input string\n",
    "    matches = fuzzywuzzy.process.extract(string_to_match, strings, \n",
    "                                         limit=10, scorer=fuzzywuzzy.fuzz.token_sort_ratio)\n",
    "\n",
    "    # only get matches with a ratio > 90\n",
    "    close_matches = [matches[0] for matches in matches if matches[1] >= min_ratio]\n",
    "\n",
    "    # get the rows of all the close matches in our dataframe\n",
    "    rows_with_matches = df[column].isin(close_matches)\n",
    "\n",
    "    # replace all rows with close matches with the input matches \n",
    "    df.loc[rows_with_matches, column] = string_to_match\n",
    "    \n",
    "    # let us know the function's done\n",
    "    print(\"All done!\")"
   ]
  },
  {
   "cell_type": "code",
   "execution_count": 53,
   "id": "510b20c6",
   "metadata": {},
   "outputs": [
    {
     "name": "stdout",
     "output_type": "stream",
     "text": [
      "All done!\n"
     ]
    }
   ],
   "source": [
    "replace_matches_in_column(df=professors, column=\"Country\", string_to_match=\"south korea\")"
   ]
  },
  {
   "cell_type": "code",
   "execution_count": 60,
   "id": "c3d47f63",
   "metadata": {},
   "outputs": [
    {
     "data": {
      "text/plain": [
       "array(['australia', 'austria', 'canada', 'china', 'finland', 'france',\n",
       "       'germany', 'greece', 'hongkong', 'ireland', 'italy', 'japan',\n",
       "       'macau', 'malaysia', 'mauritius', 'netherland', 'new zealand',\n",
       "       'norway', 'pakistan', 'portugal', 'russian federation',\n",
       "       'saudi arabia', 'scotland', 'singapore', 'south korea', 'spain',\n",
       "       'sweden', 'thailand', 'turkey', 'uk', 'urbana', 'usa', 'usofa'],\n",
       "      dtype=object)"
      ]
     },
     "execution_count": 60,
     "metadata": {},
     "output_type": "execute_result"
    }
   ],
   "source": [
    "countries = professors.Country.unique()\n",
    "countries.sort()\n",
    "countries"
   ]
  },
  {
   "cell_type": "markdown",
   "id": "cd8d1d20",
   "metadata": {},
   "source": [
    "Now let's examine the graduated column"
   ]
  },
  {
   "cell_type": "code",
   "execution_count": 61,
   "id": "6cc11588",
   "metadata": {},
   "outputs": [
    {
     "data": {
      "text/plain": [
       "2                           Asian Institute of Technology\n",
       "4                           Asian Institute of Technology\n",
       "5                           Asian Institute of Technology\n",
       "6                           Asian Institute of Technology\n",
       "24      Balochistan University of Information Technolo...\n",
       "                              ...                        \n",
       "1974                                                  JNU\n",
       "1975                                             Grenoble\n",
       "1977                          Florida Atlantic University\n",
       "1979    Ghulam Ishaq Khan Institute of Science and Tec...\n",
       "1980                            Seoul National University\n",
       "Name: Graduated from, Length: 1142, dtype: object"
      ]
     },
     "execution_count": 61,
     "metadata": {},
     "output_type": "execute_result"
    }
   ],
   "source": [
    "professors[\"Graduated from\"]"
   ]
  },
  {
   "cell_type": "code",
   "execution_count": 65,
   "id": "e846ee17",
   "metadata": {},
   "outputs": [
    {
     "data": {
      "text/plain": [
       "array(['asian institute of technology',\n",
       "       'balochistan university of information technology, engineering and management sciences',\n",
       "       'university of balochistan',\n",
       "       \"sardar bahadur khan women's university\",\n",
       "       'srh hochschule heidelberg',\n",
       "       'institute of business administration,karachi', 'duet,karachi',\n",
       "       'university of turbat', 'university of vienna',\n",
       "       'monash university', 'university of stirling',\n",
       "       'chinese academy of sciences', 'university of innsbruck',\n",
       "       'vienna university of technology', 'university of paris-est',\n",
       "       'the university of cambridge', 'harbin institute of technology',\n",
       "       'university of nice, sophia antipolis', 'the university of york',\n",
       "       'galilée - université paris 13', 'university of bedfordshire',\n",
       "       'north dakota state university', 'kyungpook national university',\n",
       "       'the university of manchester',\n",
       "       'national university of sciences and technology',\n",
       "       'fast– national university of computer and emerging sciences',\n",
       "       'capital university of science & technology', 'gomal university',\n",
       "       'university of malaya', 'kth royal institute of technology',\n",
       "       'university of technology',\n",
       "       'comsats institute of information technology',\n",
       "       'government college university', 'mohammad ali jinnah university',\n",
       "       'shaheed zulfikar ali bhutto institute of science and technology',\n",
       "       'blekinge institute of technology', 'university of grenoble',\n",
       "       'politecnico di torino', 'university of missouri, kc',\n",
       "       'university of bonn', 'university of paris',\n",
       "       'the university of leeds', 'university of windsor',\n",
       "       'national university of sciences and technology-niit',\n",
       "       'university of trento', 'stockholm university',\n",
       "       'university of new south wales, sydney',\n",
       "       'kingston university london', 'griffith university',\n",
       "       'university of salford', 'loughborough university',\n",
       "       'international islamic university,islamabad',\n",
       "       'university of central missouri',\n",
       "       'riphah international university', 'university of illinois',\n",
       "       'university of oslo', 'nancy 2 university',\n",
       "       'university of limerick',\n",
       "       'ghulam ishaq khan institute of science and technology',\n",
       "       'university of waterloo', 'university of stuttgart',\n",
       "       'liverpool john moores university', 'university of caen',\n",
       "       'paris tech university of eurecom',\n",
       "       'lahore university of management sciences',\n",
       "       'dresden university of technology, dresden',\n",
       "       'comsats institute of information technology,vehari',\n",
       "       'comsats institute of information technology,wah cantt',\n",
       "       'tu berlin',\n",
       "       'fast– national university of computer and emerging sciences,islamabad',\n",
       "       'tsinghua university', 'the university of auckland',\n",
       "       'iqra university', 'universiti teknologi petronas',\n",
       "       'comsats institute of information technology,islamabad',\n",
       "       'razak school of engineering and advanced technology, universiti teknologi malaysia (utm)',\n",
       "       'national university of modern languages',\n",
       "       'university of engineering and technology',\n",
       "       'university institute of information technology',\n",
       "       'university of arid agriculture', 'quaid-i-azam university',\n",
       "       'queen mary university of london',\n",
       "       'pakistan institute of engineering and applied sciences',\n",
       "       'pohang university of science and technology',\n",
       "       'uppsala university', 'kyung hee university',\n",
       "       'university of liverpool', 'university of sunderland',\n",
       "       'mid sweden university', 'bahria university,islamabad',\n",
       "       'chosun university', 'university of sussex',\n",
       "       'paris descartes university', 'university of leicester',\n",
       "       'university of porto', 'university of manchester',\n",
       "       'université henri poincaré, nancy 1,', 'bahria university',\n",
       "       'centre for advanced studies in engineering',\n",
       "       'norwegian university of science and technology (ntnu),',\n",
       "       'the islamia university of bahawalpur', 'universiti technologi',\n",
       "       'california state university', 'university of genova',\n",
       "       'university of engineering and technology,taxila',\n",
       "       'university of\\xa0liverpool john moores university', 'guildford',\n",
       "       'university of bradford', 'graz university of technology',\n",
       "       'huazhong university of science and technology (hust), wuhan',\n",
       "       'university of konstanz',\n",
       "       'national university of modern languages,islamabad',\n",
       "       'fast– national university of computer and emerging sciences,lahore',\n",
       "       'gwangju institute of science and technology',\n",
       "       'university of birmingham', 'manchester university',\n",
       "       'beijing institute of technology', 'university of paisley',\n",
       "       'univ of porto/univ of aveiro portugal/uni of minho',\n",
       "       'university of peshawar', 'universität salzburg',\n",
       "       'colorado state university', 'university of virginia',\n",
       "       'university of orleans', 'zhejiang university',\n",
       "       'university of leeds', 'foundation university',\n",
       "       'barani institute of information technology', 'abasyn university',\n",
       "       'pir mehr ali shah arid agriculture university', 'preston',\n",
       "       'university of bergen', 'universtiy of lahore',\n",
       "       'hitec university,taxila', 'allama iqbal open university',\n",
       "       'university of wales,aberystwyth', 'hongik university',\n",
       "       'skolkovo institute of science and technology,',\n",
       "       'agricultural university peshawar', 'national textile university',\n",
       "       'fast– national university of computer and emerging sciences,chiniot-faisalabad',\n",
       "       'fast– national university of computer and emerging sciences,peshawar',\n",
       "       'boston university', 'brunel university',\n",
       "       'george washington university', 'university of the punjab',\n",
       "       'university of southern california', 'beihang university',\n",
       "       'institute of business administration',\n",
       "       'abdus salam school of mathematical sciences,gc university',\n",
       "       'linköping university',\n",
       "       'national college of business administration and economics',\n",
       "       'åbo akademi university,', 'university of central punjab',\n",
       "       'university of ulm', 'university of agriculture',\n",
       "       'university of notre dame indiana',\n",
       "       'punjab university college of information technology',\n",
       "       'ilmenau university of technology', 'iowa state university',\n",
       "       'vrije university, amsterdam', 'columbia university',\n",
       "       'university of freiburg', 'delft university of technology',\n",
       "       'university of texas at arlington (uta)', 'university of turin',\n",
       "       'university of central florida', 'saarland university',\n",
       "       'oxford brookes university',\n",
       "       'information technology university (itu)',\n",
       "       'university of canterbury', 'university of patras',\n",
       "       'middle east technical university', 'university of bristol',\n",
       "       'northeastern university,boston', 'purdue university',\n",
       "       'university of plymouth', 'university of south australia',\n",
       "       'stanford university', 'chalmers university of technology',\n",
       "       'massachusetts institute of technology',\n",
       "       'sapienza university of rome',\n",
       "       'eindhoven university of technology (tu/e)',\n",
       "       'united nations university international institute for software technology (unu-iist)',\n",
       "       'georgetown university,dc', 'rwth aachen university',\n",
       "       'rutgers state university of new jersey, nj',\n",
       "       'university of florida', 'technical university of braunschweig',\n",
       "       'carnegie mellon university, pittsburgh',\n",
       "       'the ohio state university', 'national university of singapore',\n",
       "       'university of british columbia', 'university of pittsburgh',\n",
       "       'the state university of new jersey',\n",
       "       'the university of texas at austin',\n",
       "       'imperial college, university of london', 'university of colorado',\n",
       "       'university of bath', 'tilburg university',\n",
       "       'pompeu fabra university barcelona',\n",
       "       'university of management and technology',\n",
       "       'comsats institute of information technology,lahore',\n",
       "       'university of agriculture, faisalabad',\n",
       "       'university of engineering & technology',\n",
       "       'fatima jinnah women university, rawalpindi',\n",
       "       'kohat university of science & technology, kohat',\n",
       "       'virtual university of pakistan', 'bahauddin zakariya university',\n",
       "       'university of the punjab,gujranwala',\n",
       "       'lahore college for women university',\n",
       "       'superior university, lahore',\n",
       "       'shaheed zulfikar ali bhutto institute of science and technology,islamabad',\n",
       "       'university of south florida', 'politecnico di milano',\n",
       "       'abdul wali khan university, mardan', 'university of lahore',\n",
       "       'minhaj university lahore', 'lahore leads university',\n",
       "       'middlesex university', 'beijing institute of technology beijing',\n",
       "       'beaconhouse national university', 'hamdard university',\n",
       "       'university paris', 'sindh university',\n",
       "       'ned university of engineering and technology',\n",
       "       'staffordshire university', 'depaul university, chicago',\n",
       "       'university of kent',\n",
       "       'mehran university of engineering & technology',\n",
       "       'quaid-e-awam university of engineering, science & technology',\n",
       "       'shah abdul latif university, khairpur',\n",
       "       'sindh agriculture university', 'swansea',\n",
       "       'university of shanghai for science and technology',\n",
       "       'griffith university,nathan campus', 'university of essex',\n",
       "       'xiamen university', 'wayne state university',\n",
       "       'the queens university of belfast', 'sungkyunkwan university',\n",
       "       'nanyang tech university', \"universite d'evry val d'essonne\",\n",
       "       'sir syed university of engineering and technology',\n",
       "       'new york institute of technology', 'fedral urdu university',\n",
       "       'isra university', 'university of karachi',\n",
       "       'south asian university',\n",
       "       'capital university of science and technology',\n",
       "       'university of manchester institute of science and technology',\n",
       "       'the university of birmingham',\n",
       "       'max planck institute for computer science',\n",
       "       'george mason university', 'university of southampton',\n",
       "       'temple university', 'university of bayreuth',\n",
       "       'muroran institute of technology,hokkaido',\n",
       "       'university of bologna', 'international islamic university',\n",
       "       'paf-karachi institute of economics and technology',\n",
       "       'institute of business administration,sukkur',\n",
       "       'myongji university', 'state university of new york system',\n",
       "       'ssindh agriculture university', 'london university',\n",
       "       'universiti putra malaysia putra',\n",
       "       'university of rome tor vergata', 'university of mississippi',\n",
       "       'university of wales', 'university of northampton',\n",
       "       'university of abertay dundee',\n",
       "       'biztek institute of business & technology,karachi',\n",
       "       'university of surrey', 'jinnah university for women',\n",
       "       'nanyang technological university',\n",
       "       'tokyo institute of technology', 'ncsu',\n",
       "       'usman institute of technology', 'hanyang university, ansan',\n",
       "       'bukc', 'universtiy of karachi', 'pace university, new york',\n",
       "       'insa de lyon, rhone', 'university of dundee',\n",
       "       'illinois institute of technology',\n",
       "       'city university of science and technology',\n",
       "       'usman institute of technology (hamdard university)',\n",
       "       'university of malaga', 'manchester metropolitan university',\n",
       "       'kyushu university,fukuoka',\n",
       "       'king abdullah university of science and technology',\n",
       "       'inria saclay ile-de-france', 'université de la rochelle',\n",
       "       'university of south brittany', 'aston university, birmingham',\n",
       "       'university of agriculture faisalabad',\n",
       "       'hamburg university of technology',\n",
       "       'government college university, faisalabad', 'jku',\n",
       "       'university of oviedo',\n",
       "       'beijing university of posts & telecommunications',\n",
       "       'government college university,faisalabad',\n",
       "       'nottingham trent university', 'university of glasgow',\n",
       "       'coventry university',\n",
       "       'riphah international university,faisalabad',\n",
       "       'australian national university, caneberra',\n",
       "       'swedish university of agricultural sciences, uppsala',\n",
       "       'university of gujrat', 'iqra university,islamabad',\n",
       "       'jonkoping university', 'colorado technical university',\n",
       "       'cranfield university', 'technical university of graz',\n",
       "       'university of york', 'brock university canada',\n",
       "       'university of westminster', 'university of saarland',\n",
       "       'the university of queensland', 'university of rochester',\n",
       "       'islamia college university',\n",
       "       'ibms kp agricultural university peshawar',\n",
       "       'university of kuala lumpur', 'university of regina', 'tu wien',\n",
       "       'swinburne university of technology',\n",
       "       'institute of managment sciences, peshawar',\n",
       "       'universiti tun hussein onn malaysia',\n",
       "       'institute of management sciences, peshawar',\n",
       "       'university of huddersfield',\n",
       "       'university of engineering and technology,peshawar',\n",
       "       'iqra university,karachi', 'john moorse university, liverpool',\n",
       "       'cecos university of information technology and emerging sciences,peshawar',\n",
       "       'university of the west scotland', 'concordia university,montreal',\n",
       "       'jnu', 'grenoble', 'florida atlantic university',\n",
       "       'seoul national university'], dtype=object)"
      ]
     },
     "execution_count": 65,
     "metadata": {},
     "output_type": "execute_result"
    }
   ],
   "source": [
    "#convert it to lower case\n",
    "\n",
    "professors[\"Graduated from\"] = professors[\"Graduated from\"].str.lower()\n",
    "\n",
    "#remove white spaces\n",
    "\n",
    "professors[\"Graduated from\"] = professors[\"Graduated from\"].str.strip()\n",
    "\n",
    "#let's see unique vlaues\n",
    "\n",
    "professors[\"Graduated from\"].unique()"
   ]
  },
  {
   "cell_type": "markdown",
   "id": "1187706a",
   "metadata": {},
   "source": [
    "There is some inconsistencies like \"university of florida\" and \"univeristy of central florida\" both appear in the columns."
   ]
  },
  {
   "cell_type": "code",
   "execution_count": 66,
   "id": "2a2feaea",
   "metadata": {},
   "outputs": [
    {
     "name": "stdout",
     "output_type": "stream",
     "text": [
      "All done!\n"
     ]
    }
   ],
   "source": [
    "replace_matches_in_column(professors, column = \"Graduated from\", string_to_match=\"University of Central Florida\")"
   ]
  },
  {
   "cell_type": "code",
   "execution_count": 67,
   "id": "bda93347",
   "metadata": {},
   "outputs": [
    {
     "data": {
      "text/plain": [
       "array(['University of Central Florida', 'abasyn university',\n",
       "       'abdul wali khan university, mardan',\n",
       "       'abdus salam school of mathematical sciences,gc university',\n",
       "       'agricultural university peshawar', 'allama iqbal open university',\n",
       "       'asian institute of technology', 'aston university, birmingham',\n",
       "       'australian national university, caneberra',\n",
       "       'bahauddin zakariya university', 'bahria university',\n",
       "       'bahria university,islamabad',\n",
       "       'balochistan university of information technology, engineering and management sciences',\n",
       "       'barani institute of information technology',\n",
       "       'beaconhouse national university', 'beihang university',\n",
       "       'beijing institute of technology',\n",
       "       'beijing institute of technology beijing',\n",
       "       'beijing university of posts & telecommunications',\n",
       "       'biztek institute of business & technology,karachi',\n",
       "       'blekinge institute of technology', 'boston university',\n",
       "       'brock university canada', 'brunel university', 'bukc',\n",
       "       'california state university',\n",
       "       'capital university of science & technology',\n",
       "       'capital university of science and technology',\n",
       "       'carnegie mellon university, pittsburgh',\n",
       "       'cecos university of information technology and emerging sciences,peshawar',\n",
       "       'centre for advanced studies in engineering',\n",
       "       'chalmers university of technology', 'chinese academy of sciences',\n",
       "       'chosun university', 'city university of science and technology',\n",
       "       'colorado state university', 'colorado technical university',\n",
       "       'columbia university',\n",
       "       'comsats institute of information technology',\n",
       "       'comsats institute of information technology,islamabad',\n",
       "       'comsats institute of information technology,lahore',\n",
       "       'comsats institute of information technology,vehari',\n",
       "       'comsats institute of information technology,wah cantt',\n",
       "       'concordia university,montreal', 'coventry university',\n",
       "       'cranfield university', 'delft university of technology',\n",
       "       'depaul university, chicago',\n",
       "       'dresden university of technology, dresden', 'duet,karachi',\n",
       "       'eindhoven university of technology (tu/e)',\n",
       "       'fast– national university of computer and emerging sciences',\n",
       "       'fast– national university of computer and emerging sciences,chiniot-faisalabad',\n",
       "       'fast– national university of computer and emerging sciences,islamabad',\n",
       "       'fast– national university of computer and emerging sciences,lahore',\n",
       "       'fast– national university of computer and emerging sciences,peshawar',\n",
       "       'fatima jinnah women university, rawalpindi',\n",
       "       'fedral urdu university', 'foundation university',\n",
       "       'galilée - université paris 13', 'george mason university',\n",
       "       'george washington university', 'georgetown university,dc',\n",
       "       'ghulam ishaq khan institute of science and technology',\n",
       "       'gomal university', 'government college university',\n",
       "       'government college university, faisalabad',\n",
       "       'government college university,faisalabad',\n",
       "       'graz university of technology', 'grenoble', 'griffith university',\n",
       "       'griffith university,nathan campus', 'guildford',\n",
       "       'gwangju institute of science and technology',\n",
       "       'hamburg university of technology', 'hamdard university',\n",
       "       'hanyang university, ansan', 'harbin institute of technology',\n",
       "       'hitec university,taxila', 'hongik university',\n",
       "       'huazhong university of science and technology (hust), wuhan',\n",
       "       'ibms kp agricultural university peshawar',\n",
       "       'illinois institute of technology',\n",
       "       'ilmenau university of technology',\n",
       "       'imperial college, university of london',\n",
       "       'information technology university (itu)',\n",
       "       'inria saclay ile-de-france', 'insa de lyon, rhone',\n",
       "       'institute of business administration',\n",
       "       'institute of business administration,karachi',\n",
       "       'institute of business administration,sukkur',\n",
       "       'institute of management sciences, peshawar',\n",
       "       'institute of managment sciences, peshawar',\n",
       "       'international islamic university',\n",
       "       'international islamic university,islamabad',\n",
       "       'iowa state university', 'iqra university',\n",
       "       'iqra university,islamabad', 'iqra university,karachi',\n",
       "       'islamia college university', 'isra university',\n",
       "       'jinnah university for women', 'jku', 'jnu',\n",
       "       'john moorse university, liverpool', 'jonkoping university',\n",
       "       'king abdullah university of science and technology',\n",
       "       'kingston university london',\n",
       "       'kohat university of science & technology, kohat',\n",
       "       'kth royal institute of technology', 'kyung hee university',\n",
       "       'kyungpook national university', 'kyushu university,fukuoka',\n",
       "       'lahore college for women university', 'lahore leads university',\n",
       "       'lahore university of management sciences', 'linköping university',\n",
       "       'liverpool john moores university', 'london university',\n",
       "       'loughborough university', 'manchester metropolitan university',\n",
       "       'manchester university', 'massachusetts institute of technology',\n",
       "       'max planck institute for computer science',\n",
       "       'mehran university of engineering & technology',\n",
       "       'mid sweden university', 'middle east technical university',\n",
       "       'middlesex university', 'minhaj university lahore',\n",
       "       'mohammad ali jinnah university', 'monash university',\n",
       "       'muroran institute of technology,hokkaido', 'myongji university',\n",
       "       'nancy 2 university', 'nanyang tech university',\n",
       "       'nanyang technological university',\n",
       "       'national college of business administration and economics',\n",
       "       'national textile university',\n",
       "       'national university of modern languages',\n",
       "       'national university of modern languages,islamabad',\n",
       "       'national university of sciences and technology',\n",
       "       'national university of sciences and technology-niit',\n",
       "       'national university of singapore', 'ncsu',\n",
       "       'ned university of engineering and technology',\n",
       "       'new york institute of technology',\n",
       "       'north dakota state university', 'northeastern university,boston',\n",
       "       'norwegian university of science and technology (ntnu),',\n",
       "       'nottingham trent university', 'oxford brookes university',\n",
       "       'pace university, new york',\n",
       "       'paf-karachi institute of economics and technology',\n",
       "       'pakistan institute of engineering and applied sciences',\n",
       "       'paris descartes university', 'paris tech university of eurecom',\n",
       "       'pir mehr ali shah arid agriculture university',\n",
       "       'pohang university of science and technology',\n",
       "       'politecnico di milano', 'politecnico di torino',\n",
       "       'pompeu fabra university barcelona', 'preston',\n",
       "       'punjab university college of information technology',\n",
       "       'purdue university',\n",
       "       'quaid-e-awam university of engineering, science & technology',\n",
       "       'quaid-i-azam university', 'queen mary university of london',\n",
       "       'razak school of engineering and advanced technology, universiti teknologi malaysia (utm)',\n",
       "       'riphah international university',\n",
       "       'riphah international university,faisalabad',\n",
       "       'rutgers state university of new jersey, nj',\n",
       "       'rwth aachen university', 'saarland university',\n",
       "       'sapienza university of rome',\n",
       "       \"sardar bahadur khan women's university\",\n",
       "       'seoul national university',\n",
       "       'shah abdul latif university, khairpur',\n",
       "       'shaheed zulfikar ali bhutto institute of science and technology',\n",
       "       'shaheed zulfikar ali bhutto institute of science and technology,islamabad',\n",
       "       'sindh agriculture university', 'sindh university',\n",
       "       'sir syed university of engineering and technology',\n",
       "       'skolkovo institute of science and technology,',\n",
       "       'south asian university', 'srh hochschule heidelberg',\n",
       "       'ssindh agriculture university', 'staffordshire university',\n",
       "       'stanford university', 'state university of new york system',\n",
       "       'stockholm university', 'sungkyunkwan university',\n",
       "       'superior university, lahore', 'swansea',\n",
       "       'swedish university of agricultural sciences, uppsala',\n",
       "       'swinburne university of technology',\n",
       "       'technical university of braunschweig',\n",
       "       'technical university of graz', 'temple university',\n",
       "       'the islamia university of bahawalpur',\n",
       "       'the ohio state university', 'the queens university of belfast',\n",
       "       'the state university of new jersey', 'the university of auckland',\n",
       "       'the university of birmingham', 'the university of cambridge',\n",
       "       'the university of leeds', 'the university of manchester',\n",
       "       'the university of queensland',\n",
       "       'the university of texas at austin', 'the university of york',\n",
       "       'tilburg university', 'tokyo institute of technology',\n",
       "       'tsinghua university', 'tu berlin', 'tu wien',\n",
       "       'united nations university international institute for software technology (unu-iist)',\n",
       "       'univ of porto/univ of aveiro portugal/uni of minho',\n",
       "       \"universite d'evry val d'essonne\",\n",
       "       'universiti putra malaysia putra', 'universiti technologi',\n",
       "       'universiti teknologi petronas',\n",
       "       'universiti tun hussein onn malaysia',\n",
       "       'university institute of information technology',\n",
       "       'university of abertay dundee', 'university of agriculture',\n",
       "       'university of agriculture faisalabad',\n",
       "       'university of agriculture, faisalabad',\n",
       "       'university of arid agriculture', 'university of balochistan',\n",
       "       'university of bath', 'university of bayreuth',\n",
       "       'university of bedfordshire', 'university of bergen',\n",
       "       'university of birmingham', 'university of bologna',\n",
       "       'university of bonn', 'university of bristol',\n",
       "       'university of british columbia', 'university of canterbury',\n",
       "       'university of dundee', 'university of engineering & technology',\n",
       "       'university of engineering and technology',\n",
       "       'university of engineering and technology,peshawar',\n",
       "       'university of engineering and technology,taxila',\n",
       "       'university of essex', 'university of freiburg',\n",
       "       'university of glasgow', 'university of grenoble',\n",
       "       'university of gujrat', 'university of huddersfield',\n",
       "       'university of illinois', 'university of innsbruck',\n",
       "       'university of karachi', 'university of kent',\n",
       "       'university of konstanz', 'university of kuala lumpur',\n",
       "       'university of lahore', 'university of leeds',\n",
       "       'university of leicester', 'university of limerick',\n",
       "       'university of liverpool', 'university of malaga',\n",
       "       'university of malaya', 'university of management and technology',\n",
       "       'university of manchester',\n",
       "       'university of manchester institute of science and technology',\n",
       "       'university of mississippi', 'university of missouri, kc',\n",
       "       'university of new south wales, sydney',\n",
       "       'university of nice, sophia antipolis',\n",
       "       'university of northampton', 'university of notre dame indiana',\n",
       "       'university of orleans', 'university of oslo',\n",
       "       'university of oviedo', 'university of paisley',\n",
       "       'university of paris', 'university of paris-est',\n",
       "       'university of patras', 'university of peshawar',\n",
       "       'university of pittsburgh', 'university of plymouth',\n",
       "       'university of porto', 'university of regina',\n",
       "       'university of rochester', 'university of rome tor vergata',\n",
       "       'university of saarland', 'university of salford',\n",
       "       'university of shanghai for science and technology',\n",
       "       'university of south australia', 'university of south brittany',\n",
       "       'university of southampton', 'university of southern california',\n",
       "       'university of stirling', 'university of stuttgart',\n",
       "       'university of sunderland', 'university of surrey',\n",
       "       'university of sussex', 'university of technology',\n",
       "       'university of texas at arlington (uta)',\n",
       "       'university of the punjab', 'university of the punjab,gujranwala',\n",
       "       'university of the west scotland', 'university of trento',\n",
       "       'university of turbat', 'university of turin', 'university of ulm',\n",
       "       'university of vienna', 'university of virginia',\n",
       "       'university of wales', 'university of wales,aberystwyth',\n",
       "       'university of waterloo', 'university of westminster',\n",
       "       'university of windsor', 'university of york',\n",
       "       'university of\\xa0liverpool john moores university',\n",
       "       'university paris', 'universität salzburg',\n",
       "       'université de la rochelle', 'université henri poincaré, nancy 1,',\n",
       "       'universtiy of karachi', 'universtiy of lahore',\n",
       "       'uppsala university', 'usman institute of technology',\n",
       "       'usman institute of technology (hamdard university)',\n",
       "       'vienna university of technology',\n",
       "       'virtual university of pakistan', 'vrije university, amsterdam',\n",
       "       'wayne state university', 'xiamen university',\n",
       "       'zhejiang university', 'åbo akademi university,'], dtype=object)"
      ]
     },
     "execution_count": 67,
     "metadata": {},
     "output_type": "execute_result"
    }
   ],
   "source": [
    "graduated_from = professors[\"Graduated from\"].unique()\n",
    "graduated_from.sort()\n",
    "graduated_from"
   ]
  },
  {
   "cell_type": "markdown",
   "id": "8b548046",
   "metadata": {},
   "source": [
    "at the country there is \"usa\" and \"usofa\" which should be the same. Let's deal with this"
   ]
  },
  {
   "cell_type": "code",
   "execution_count": 68,
   "id": "000df476",
   "metadata": {},
   "outputs": [
    {
     "name": "stdout",
     "output_type": "stream",
     "text": [
      "All done!\n"
     ]
    }
   ],
   "source": [
    "replace_matches_in_column(professors, column=\"Country\", string_to_match=\"usa\")"
   ]
  },
  {
   "cell_type": "code",
   "execution_count": 69,
   "id": "881010e0",
   "metadata": {},
   "outputs": [
    {
     "data": {
      "text/plain": [
       "array(['thailand', 'pakistan', 'germany', 'usa', 'uk', 'china', 'france',\n",
       "       'south korea', 'malaysia', 'sweden', 'italy', 'canada', 'norway',\n",
       "       'ireland', 'new zealand', 'urbana', 'portugal',\n",
       "       'russian federation', 'finland', 'netherland', 'greece', 'turkey',\n",
       "       'macau', 'singapore', 'japan', 'hongkong', 'saudi arabia',\n",
       "       'mauritius', 'scotland'], dtype=object)"
      ]
     },
     "execution_count": 69,
     "metadata": {},
     "output_type": "execute_result"
    }
   ],
   "source": [
    "professors[\"Country\"].unique()"
   ]
  },
  {
   "cell_type": "code",
   "execution_count": null,
   "id": "0c12e249",
   "metadata": {},
   "outputs": [],
   "source": []
  }
 ],
 "metadata": {
  "kernelspec": {
   "display_name": "Python 3",
   "language": "python",
   "name": "python3"
  },
  "language_info": {
   "codemirror_mode": {
    "name": "ipython",
    "version": 3
   },
   "file_extension": ".py",
   "mimetype": "text/x-python",
   "name": "python",
   "nbconvert_exporter": "python",
   "pygments_lexer": "ipython3",
   "version": "3.8.8"
  }
 },
 "nbformat": 4,
 "nbformat_minor": 5
}
